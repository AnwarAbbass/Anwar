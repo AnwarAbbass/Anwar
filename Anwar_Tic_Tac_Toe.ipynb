{
  "nbformat": 4,
  "nbformat_minor": 0,
  "metadata": {
    "colab": {
      "name": "Anwar_Tic_Tac_Toe",
      "provenance": [],
      "collapsed_sections": [],
      "authorship_tag": "ABX9TyPpG2a9y4BqrtdClC7mHhIj",
      "include_colab_link": true
    },
    "kernelspec": {
      "name": "python3",
      "display_name": "Python 3"
    }
  },
  "cells": [
    {
      "cell_type": "markdown",
      "metadata": {
        "id": "view-in-github",
        "colab_type": "text"
      },
      "source": [
        "<a href=\"https://colab.research.google.com/github/AnwarAbbass/Anwar/blob/main/Anwar_Tic_Tac_Toe.ipynb\" target=\"_parent\"><img src=\"https://colab.research.google.com/assets/colab-badge.svg\" alt=\"Open In Colab\"/></a>"
      ]
    },
    {
      "cell_type": "markdown",
      "metadata": {
        "id": "l30aBnMuLNpS"
      },
      "source": [
        "# Milestone Project 1: Walk-through Steps Workbook\n",
        "\n",
        "Below is a set of steps for you to follow to try to create the Tic Tac Toe Milestone Project game!"
      ]
    },
    {
      "cell_type": "code",
      "metadata": {
        "id": "K0zDKWzwLNpS"
      },
      "source": [
        "# For using the same code in either Python 2 or 3\n",
        "from __future__ import print_function\n",
        "from IPython.display import clear_output\n",
        "import random \n",
        "\n",
        "## Note: Python 2 users, use raw_input() to get player input. Python 3 users, use input()"
      ],
      "execution_count": 1,
      "outputs": []
    },
    {
      "cell_type": "markdown",
      "metadata": {
        "id": "54lzcbreLNpS"
      },
      "source": [
        "**Step 1: Write a function that can print out a board. Set up your board as a list, where each index 1-9 corresponds with a number on a number pad, so you get a 3 by 3 board representation.**"
      ]
    },
    {
      "cell_type": "code",
      "metadata": {
        "id": "aZr-TzYfLNpS"
      },
      "source": [
        "def display_board(board):\n",
        "  clear_output()\n",
        "  print(f' {board[7]} | {board[8]} | {board[9]} ')\n",
        "  print('------------')\n",
        "  print(f' {board[4]} | {board[5]} | {board[6]} ')\n",
        "  print('------------')\n",
        "  print(f' {board[1]} | {board[2]} | {board[3]} ')\n",
        "  "
      ],
      "execution_count": 3,
      "outputs": []
    },
    {
      "cell_type": "markdown",
      "metadata": {
        "id": "oz4gOfJjLNpT"
      },
      "source": [
        "**Step 2: Write a function that can take in a player input and assign their marker as 'X' or 'O'. Think about using *while* loops to continually ask until you get a correct answer.**"
      ]
    },
    {
      "cell_type": "code",
      "metadata": {
        "id": "lyaXEgXeLNpT"
      },
      "source": [
        "def player_input():\n",
        "  while True:\n",
        "    player1= input(' player 1 Choose what you want play with (X or O) : ')\n",
        "    if str.upper(player1) == 'X' :\n",
        "      player2= 'O'\n",
        "      break\n",
        "    elif str.upper(player1) == 'O':\n",
        "      player2= 'X'\n",
        "      break\n",
        "    else:\n",
        "      print (' Wrong entry, please try again ')\n",
        "  return player1,player2\n",
        "    "
      ],
      "execution_count": 4,
      "outputs": []
    },
    {
      "cell_type": "markdown",
      "metadata": {
        "id": "CIpi-diILNpT"
      },
      "source": [
        "**Step 3: Write a function that takes, in the board list object, a marker ('X' or 'O'), and a desired position (number 1-9) and assigns it to the board.**"
      ]
    },
    {
      "cell_type": "code",
      "metadata": {
        "id": "MdcPGr52LNpT"
      },
      "source": [
        "def place_marker(board, marker, position):\n",
        "    board[position]= marker"
      ],
      "execution_count": 7,
      "outputs": []
    },
    {
      "cell_type": "markdown",
      "metadata": {
        "id": "pq7q724qLNpT"
      },
      "source": [
        "**Step 4: Write a function that takes in a board and a mark (X or O) and then checks to see if that mark has won.**"
      ]
    },
    {
      "cell_type": "code",
      "metadata": {
        "id": "01Nc2JjPLNpT"
      },
      "source": [
        "def win_check(board,mark):\n",
        "   return (   board[1] == mark and board[2] == mark and board[3] == mark \n",
        "          or board[4] == mark and board[5] == mark and board[6] == mark\n",
        "          or board[7] == mark and board[8] == mark and board[9] == mark \n",
        "          or board[1] == mark and board[5] == mark and board[9] == mark \n",
        "          or board[7] == mark and board[5] == mark and board[3] == mark \n",
        "          or board[1] == mark and board[4] == mark and board[7] == mark \n",
        "          or board[5] == mark and board[2] == mark and board[8] == mark \n",
        "          or board[9] == mark and board[6] == mark and board[3] == mark)"
      ],
      "execution_count": 6,
      "outputs": []
    },
    {
      "cell_type": "markdown",
      "metadata": {
        "id": "-z5yaWc0LNpT"
      },
      "source": [
        "**Step 5: Write a function that uses the random module to randomly decide which player goes first. You may want to lookup random.randint() Return a string of which player went first.**"
      ]
    },
    {
      "cell_type": "code",
      "metadata": {
        "id": "K9OSLlWnLNpT"
      },
      "source": [
        "def choose_first():\n",
        "  first=str(random.randint(1, 2))\n",
        "  return first"
      ],
      "execution_count": 5,
      "outputs": []
    },
    {
      "cell_type": "markdown",
      "metadata": {
        "id": "6Se5qOR6LNpT"
      },
      "source": [
        "**Step 6: Write a function that returns a boolean indicating whether a space on the board is freely available.**"
      ]
    },
    {
      "cell_type": "code",
      "metadata": {
        "id": "Rs4qrSdoLNpT"
      },
      "source": [
        "def space_check(board, position):\n",
        "  if board[position] == '':\n",
        "     return True\n",
        "  else :\n",
        "     return False"
      ],
      "execution_count": 20,
      "outputs": []
    },
    {
      "cell_type": "markdown",
      "metadata": {
        "id": "oQt9bjoULNpT"
      },
      "source": [
        "**Step 7: Write a function that checks if the board is full and returns a boolean value. True if full, False otherwise.**"
      ]
    },
    {
      "cell_type": "code",
      "metadata": {
        "id": "mC6Z2gHsLNpT"
      },
      "source": [
        "def full_board_check(board):\n",
        "  ful=True; i=1\n",
        "  while i in range(len(board)):\n",
        "     if board[i] == '':\n",
        "       ful=False\n",
        "       break\n",
        "     i+=1\n",
        "  if ful==True:\n",
        "    display_board(board)\n",
        "    print (' ---- Drawn ---- ')\n",
        "  return ful"
      ],
      "execution_count": 45,
      "outputs": []
    },
    {
      "cell_type": "markdown",
      "metadata": {
        "id": "6LLt0oXBLNpT"
      },
      "source": [
        "**Step 8: Write a function that asks for a player's next position (as a number 1-9) and then uses the function from step 6 to check if its a free position. If it is, then return the position for later use.**"
      ]
    },
    {
      "cell_type": "code",
      "metadata": {
        "id": "pzpnahaJLNpT"
      },
      "source": [
        "def player_choice(board):\n",
        "   next_pos=input(' write your position : ')\n",
        "   if str.isdigit(next_pos):\n",
        "     pos=int(next_pos)\n",
        "     if space_check(board,pos):\n",
        "       return pos\n",
        "     else:\n",
        "       print(' This position was previously selected, pleas select one else ')\n",
        "       return player_choice(board)\n",
        "   else:\n",
        "     return player_choice(board)\n"
      ],
      "execution_count": 41,
      "outputs": []
    },
    {
      "cell_type": "markdown",
      "metadata": {
        "id": "fA-LjO_rLNpU"
      },
      "source": [
        "**OPTIONAL: Step 9: Write a function that asks the player if they want to play again and returns a boolean True if they do want to play again.**"
      ]
    },
    {
      "cell_type": "code",
      "metadata": {
        "id": "JQx_mqaMLNpU"
      },
      "source": [
        "def replay():\n",
        "  replay=False\n",
        "  while True:\n",
        "    again=input('Want you play again ? Yes/No : ')\n",
        "    if str.upper(again)== 'YES' :\n",
        "      replay= True\n",
        "      break\n",
        "    elif str.upper(again)== 'NO' :\n",
        "      break\n",
        "    else : \n",
        "      # if again is not (yes/no)\n",
        "      print(' The value entered is not valid ')\n",
        "  return replay"
      ],
      "execution_count": 15,
      "outputs": []
    },
    {
      "cell_type": "markdown",
      "metadata": {
        "collapsed": true,
        "id": "72LpSH8nLNpU"
      },
      "source": [
        "**Step 10: Here comes the hard part! Use while loops and the functions you've made to run the game!**"
      ]
    },
    {
      "cell_type": "code",
      "metadata": {
        "id": "oZt7cBcjLNpU",
        "colab": {
          "base_uri": "https://localhost:8080/"
        },
        "outputId": "b3522b50-3e9e-400b-8f2c-e4911298f082"
      },
      "source": [
        "print('Welcome to Tic Tac Toe!')\n",
        "player1,player2='',''\n",
        "player=''\n",
        "while True:\n",
        "  board=['','','','','','','','','','']     # board list has 10 elements becoase in display_board and win_check start from index 1 \n",
        "  player1,player2=player_input()\n",
        "  Player = choose_first()\n",
        "  while True:\n",
        "    if Player == '1' :\n",
        "      display_board(board)\n",
        "      print(' player 1 turn ')\n",
        "      position = player_choice(board)\n",
        "      if space_check(board, position):\n",
        "        place_marker(board, player1, position)\n",
        "      if win_check(board,player1):\n",
        "        display_board(board)\n",
        "        print (' ----player 1 is the winner ----')\n",
        "        break\n",
        "      Player='2'  \n",
        "\n",
        "        \n",
        "    else:\n",
        "      display_board(board)\n",
        "      print(' player 2 turn ')\n",
        "      position = player_choice(board)\n",
        "      if space_check(board, position):\n",
        "        place_marker(board, player2, position)\n",
        "      if win_check(board,player2):\n",
        "        display_board(board)\n",
        "        print (' ---- player 2 is the winner ----  ')\n",
        "        break\n",
        "      Player='1' \n",
        "\n",
        "    # To check if the board full if full go out of the loop    \n",
        "    if full_board_check(board) :\n",
        "      break\n",
        "\n",
        "  if not replay():\n",
        "    break"
      ],
      "execution_count": 46,
      "outputs": [
        {
          "output_type": "stream",
          "text": [
            " X | o | X \n",
            "-----------\n",
            " X | o | X \n",
            "-----------\n",
            " o | X | o \n",
            " Drawn \n",
            "Want you play again ? Yes/Noo\n",
            "The value entered is not valid\n",
            "Want you play again ? Yes/Nono\n"
          ],
          "name": "stdout"
        }
      ]
    },
    {
      "cell_type": "markdown",
      "metadata": {
        "collapsed": true,
        "id": "eTZK6MhZLNpV"
      },
      "source": [
        "## Good Luck!"
      ]
    },
    {
      "cell_type": "code",
      "metadata": {
        "id": "2t5pnajCygWR"
      },
      "source": [
        ""
      ],
      "execution_count": null,
      "outputs": []
    }
  ]
}