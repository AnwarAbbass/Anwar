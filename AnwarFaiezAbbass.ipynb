{
  "nbformat": 4,
  "nbformat_minor": 0,
  "metadata": {
    "colab": {
      "name": "AnwarFaiezAbbass.ipynb",
      "provenance": [],
      "collapsed_sections": [],
      "authorship_tag": "ABX9TyOcCikHzjR/DTxxZkv6IGJE",
      "include_colab_link": true
    },
    "kernelspec": {
      "name": "python3",
      "display_name": "Python 3"
    }
  },
  "cells": [
    {
      "cell_type": "markdown",
      "metadata": {
        "id": "view-in-github",
        "colab_type": "text"
      },
      "source": [
        "<a href=\"https://colab.research.google.com/github/AnwarAbbass/Anwar/blob/main/AnwarFaiezAbbass.ipynb\" target=\"_parent\"><img src=\"https://colab.research.google.com/assets/colab-badge.svg\" alt=\"Open In Colab\"/></a>"
      ]
    },
    {
      "cell_type": "code",
      "metadata": {
        "id": "RssbKdne6NmB"
      },
      "source": [
        "from __future__ import print_function\n",
        "from IPython.display import clear_output\n",
        "import random"
      ],
      "execution_count": 2,
      "outputs": []
    },
    {
      "cell_type": "code",
      "metadata": {
        "id": "7T_sZTHQ6lCE"
      },
      "source": [
        "def display_board(board):\n",
        "  clear_output()\n",
        "  print(f' {board[7]} | {board[8]} | {board[9]} ')\n",
        "  print('------------')\n",
        "  print(f' {board[4]} | {board[5]} | {board[6]} ')\n",
        "  print('------------')\n",
        "  print(f' {board[1]} | {board[2]} | {board[3]} ')"
      ],
      "execution_count": 3,
      "outputs": []
    },
    {
      "cell_type": "code",
      "metadata": {
        "id": "Ni71gW206oPp"
      },
      "source": [
        "def player_input():\n",
        "  while True:\n",
        "    player1= input(' player 1 Choose what you want play with (X or O) : ')\n",
        "    if str.upper(player1) == 'X' :\n",
        "      player2= 'O'\n",
        "      break\n",
        "    elif str.upper(player1) == 'O':\n",
        "      player2= 'X'\n",
        "      break\n",
        "    else:\n",
        "      print (' Wrong entry, please try again ')\n",
        "  return player1,player2"
      ],
      "execution_count": 4,
      "outputs": []
    },
    {
      "cell_type": "code",
      "metadata": {
        "id": "i3Hwp6l361ci"
      },
      "source": [
        "def win_check(board,mark):\n",
        "   return (   board[1] == mark and board[2] == mark and board[3] == mark \n",
        "          or board[4] == mark and board[5] == mark and board[6] == mark\n",
        "          or board[7] == mark and board[8] == mark and board[9] == mark \n",
        "          or board[1] == mark and board[5] == mark and board[9] == mark \n",
        "          or board[7] == mark and board[5] == mark and board[3] == mark \n",
        "          or board[1] == mark and board[4] == mark and board[7] == mark \n",
        "          or board[5] == mark and board[2] == mark and board[8] == mark \n",
        "          or board[9] == mark and board[6] == mark and board[3] == mark)"
      ],
      "execution_count": 5,
      "outputs": []
    },
    {
      "cell_type": "code",
      "metadata": {
        "id": "qpZvqe2t7m45"
      },
      "source": [
        "def choose_first():\n",
        "  first=str(random.randint(1, 2))\n",
        "  return first"
      ],
      "execution_count": 6,
      "outputs": []
    },
    {
      "cell_type": "code",
      "metadata": {
        "id": "ZAzeBPZSTDVO"
      },
      "source": [
        "def place_marker(board, marker, position):\n",
        "    board[position]= marker"
      ],
      "execution_count": 1,
      "outputs": []
    },
    {
      "cell_type": "code",
      "metadata": {
        "id": "NJKPUSwwTJkR"
      },
      "source": [
        "def space_check(board, position):\n",
        "  if board[position] == '':\n",
        "     return True\n",
        "  else :\n",
        "     return False"
      ],
      "execution_count": 7,
      "outputs": []
    },
    {
      "cell_type": "code",
      "metadata": {
        "id": "jAvuXmgyTXkI"
      },
      "source": [
        "def full_board_check(board):\n",
        "  ful=True; i=1\n",
        "  while i in range(len(board)):\n",
        "     if board[i] == '':\n",
        "       ful=False\n",
        "       break\n",
        "     i+=1\n",
        "  if ful==True:\n",
        "    display_board(board)\n",
        "    print (' ---- Drawn ---- ')\n",
        "  return ful"
      ],
      "execution_count": 8,
      "outputs": []
    },
    {
      "cell_type": "code",
      "metadata": {
        "id": "NueGI8dqTdvy"
      },
      "source": [
        "def player_choice(board):\n",
        "  while True:\n",
        "    next_pos=input(' write your position : ')\n",
        "    if str.isdigit(next_pos):\n",
        "      pos=int(next_pos)\n",
        "      if pos < len(board):\n",
        "        if space_check(board,pos):\n",
        "          break\n",
        "    print(' This position was previously selected or wrong entry , pleas select one else ')\n",
        "       \n",
        "  return pos"
      ],
      "execution_count": 9,
      "outputs": []
    },
    {
      "cell_type": "code",
      "metadata": {
        "id": "Urjyx9zqThwM"
      },
      "source": [
        "def replay():\n",
        "  replay=False\n",
        "  while True:\n",
        "    again=input('Want you play again ? Yes/No : ')\n",
        "    if str.upper(again)== 'YES' :\n",
        "      replay= True\n",
        "      break\n",
        "    elif str.upper(again)== 'NO' :\n",
        "      break\n",
        "    else : \n",
        "      # if again is not (yes/no)\n",
        "      print(' The value entered is not valid ')\n",
        "  return replay"
      ],
      "execution_count": 10,
      "outputs": []
    },
    {
      "cell_type": "code",
      "metadata": {
        "colab": {
          "base_uri": "https://localhost:8080/"
        },
        "id": "DXXdlRkvTvCX",
        "outputId": "d7e88379-925b-4aeb-f80f-1b519a0d6f4b"
      },
      "source": [
        "print('Welcome to Tic Tac Toe!')\n",
        "player1,player2='',''\n",
        "player=''\n",
        "while True:\n",
        "  board=['','','','','','','','','','']     # board list has 10 elements becoase in display_board and win_check start from index 1 \n",
        "  player1,player2=player_input()\n",
        "  Player = choose_first()\n",
        "  while True:\n",
        "    if Player == '1' :\n",
        "      display_board(board)\n",
        "      print(' player 1 turn ')\n",
        "      position = player_choice(board)\n",
        "      if space_check(board, position):\n",
        "        place_marker(board, player1, position)\n",
        "      if win_check(board,player1):\n",
        "        display_board(board)\n",
        "        print (' ----player 1 is the winner ----')\n",
        "        break\n",
        "      Player='2'  \n",
        " \n",
        "        \n",
        "    else:\n",
        "      display_board(board)\n",
        "      print(' player 2 turn ')\n",
        "      position = player_choice(board)\n",
        "      if space_check(board, position):\n",
        "        place_marker(board, player2, position)\n",
        "      if win_check(board,player2):\n",
        "        display_board(board)\n",
        "        print (' ---- player 2 is the winner ----  ')\n",
        "        break\n",
        "      Player='1' \n",
        " \n",
        "    # To check if the board full if full go out of the loop    \n",
        "    if full_board_check(board) :\n",
        "      break\n",
        " \n",
        "  if not replay():\n",
        "    break"
      ],
      "execution_count": 11,
      "outputs": [
        {
          "output_type": "stream",
          "text": [
            "  |  | O \n",
            "------------\n",
            " X | O |  \n",
            "------------\n",
            " O |  | X \n",
            " ---- player 2 is the winner ----  \n",
            "Want you play again ? Yes/No : No\n"
          ],
          "name": "stdout"
        }
      ]
    }
  ]
}